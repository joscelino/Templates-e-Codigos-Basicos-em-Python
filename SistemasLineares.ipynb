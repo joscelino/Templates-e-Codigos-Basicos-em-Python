{
  "nbformat": 4,
  "nbformat_minor": 0,
  "metadata": {
    "colab": {
      "name": "SistemasLineares.ipynb",
      "provenance": [],
      "authorship_tag": "ABX9TyPJGol+iBUaHEc09dtmWjW9",
      "include_colab_link": true
    },
    "kernelspec": {
      "name": "python3",
      "display_name": "Python 3"
    },
    "accelerator": "GPU"
  },
  "cells": [
    {
      "cell_type": "markdown",
      "metadata": {
        "id": "view-in-github",
        "colab_type": "text"
      },
      "source": [
        "<a href=\"https://colab.research.google.com/github/joscelino/Templates-e-Codigos-Basicos-em-Python/blob/master/SistemasLineares.ipynb\" target=\"_parent\"><img src=\"https://colab.research.google.com/assets/colab-badge.svg\" alt=\"Open In Colab\"/></a>"
      ]
    },
    {
      "cell_type": "code",
      "metadata": {
        "id": "5tuQiU93T4mw",
        "colab_type": "code",
        "colab": {}
      },
      "source": [
        "# Importacao das bibliotecas\n",
        "import numpy as np\n",
        "from numpy.linalg import det, inv"
      ],
      "execution_count": 0,
      "outputs": []
    },
    {
      "cell_type": "code",
      "metadata": {
        "id": "OOzb27q9UL2m",
        "colab_type": "code",
        "colab": {}
      },
      "source": [
        "A = np.array(([-1, 2], [2, 1]))\n",
        "B = np.array(([-1], [5]))"
      ],
      "execution_count": 0,
      "outputs": []
    },
    {
      "cell_type": "code",
      "metadata": {
        "id": "WHftzjhQUZCf",
        "colab_type": "code",
        "colab": {}
      },
      "source": [
        "A"
      ],
      "execution_count": 0,
      "outputs": []
    },
    {
      "cell_type": "code",
      "metadata": {
        "id": "nzqXDH5uUafl",
        "colab_type": "code",
        "colab": {}
      },
      "source": [
        "B"
      ],
      "execution_count": 0,
      "outputs": []
    },
    {
      "cell_type": "code",
      "metadata": {
        "id": "XB06JrWlUc8g",
        "colab_type": "code",
        "colab": {}
      },
      "source": [
        "det(A)"
      ],
      "execution_count": 0,
      "outputs": []
    },
    {
      "cell_type": "code",
      "metadata": {
        "id": "VSBsoLnyUfKK",
        "colab_type": "code",
        "colab": {}
      },
      "source": [
        "# Vetor solucao\n",
        "X = inv(A).dot(B)"
      ],
      "execution_count": 0,
      "outputs": []
    },
    {
      "cell_type": "code",
      "metadata": {
        "id": "VUfbJd8sUm8X",
        "colab_type": "code",
        "colab": {}
      },
      "source": [
        "X"
      ],
      "execution_count": 0,
      "outputs": []
    },
    {
      "cell_type": "code",
      "metadata": {
        "id": "BAcR20VWVUE4",
        "colab_type": "code",
        "colab": {}
      },
      "source": [
        "A.dot(X)"
      ],
      "execution_count": 0,
      "outputs": []
    },
    {
      "cell_type": "code",
      "metadata": {
        "id": "b5ssEYSGUokl",
        "colab_type": "code",
        "colab": {}
      },
      "source": [
        "# Sistema 3 x 3\n",
        "G = np.array(([1, 2, 3], [6, 0, 1], [4, 5, -1]))\n",
        "H = np.array([[3], [-6], [1]])"
      ],
      "execution_count": 0,
      "outputs": []
    },
    {
      "cell_type": "code",
      "metadata": {
        "id": "iDwDAP0yVcjr",
        "colab_type": "code",
        "colab": {}
      },
      "source": [
        "G"
      ],
      "execution_count": 0,
      "outputs": []
    },
    {
      "cell_type": "code",
      "metadata": {
        "id": "lhLvArkAVcuO",
        "colab_type": "code",
        "colab": {}
      },
      "source": [
        "H"
      ],
      "execution_count": 0,
      "outputs": []
    },
    {
      "cell_type": "code",
      "metadata": {
        "id": "MznWCYEPU6Um",
        "colab_type": "code",
        "colab": {}
      },
      "source": [
        "det(G)"
      ],
      "execution_count": 0,
      "outputs": []
    },
    {
      "cell_type": "code",
      "metadata": {
        "id": "LHWjvODwU8XD",
        "colab_type": "code",
        "colab": {}
      },
      "source": [
        "s = inv(G).dot(H)"
      ],
      "execution_count": 0,
      "outputs": []
    },
    {
      "cell_type": "code",
      "metadata": {
        "id": "FoVv5-W9VAG9",
        "colab_type": "code",
        "colab": {}
      },
      "source": [
        "s"
      ],
      "execution_count": 0,
      "outputs": []
    },
    {
      "cell_type": "code",
      "metadata": {
        "id": "lBBdUJvCVhZs",
        "colab_type": "code",
        "colab": {}
      },
      "source": [
        "G.dot(s)"
      ],
      "execution_count": 0,
      "outputs": []
    },
    {
      "cell_type": "code",
      "metadata": {
        "id": "CPbUqy_hVpIK",
        "colab_type": "code",
        "colab": {}
      },
      "source": [
        "# Regra de Cramer"
      ],
      "execution_count": 0,
      "outputs": []
    },
    {
      "cell_type": "code",
      "metadata": {
        "id": "UOYN5gpMWOVD",
        "colab_type": "code",
        "colab": {}
      },
      "source": [
        "a = np.array([[-1, 2], [2, 1]])\n",
        "b = np.array([[-1], [5]])"
      ],
      "execution_count": 0,
      "outputs": []
    },
    {
      "cell_type": "code",
      "metadata": {
        "id": "PEvyR7haWu-t",
        "colab_type": "code",
        "colab": {}
      },
      "source": [
        "a"
      ],
      "execution_count": 0,
      "outputs": []
    },
    {
      "cell_type": "code",
      "metadata": {
        "id": "4PfhXORFWv-B",
        "colab_type": "code",
        "colab": {}
      },
      "source": [
        "b"
      ],
      "execution_count": 0,
      "outputs": []
    },
    {
      "cell_type": "code",
      "metadata": {
        "id": "AfiV7XIUWxz9",
        "colab_type": "code",
        "colab": {}
      },
      "source": [
        "D = det(a)\n",
        "D"
      ],
      "execution_count": 0,
      "outputs": []
    },
    {
      "cell_type": "code",
      "metadata": {
        "id": "VRYs69d4W1Qj",
        "colab_type": "code",
        "colab": {}
      },
      "source": [
        "ax = a.copy()\n",
        "ax[:,0] = b[:, 0]\n",
        "ax"
      ],
      "execution_count": 0,
      "outputs": []
    },
    {
      "cell_type": "code",
      "metadata": {
        "id": "YXItWcWGXZA0",
        "colab_type": "code",
        "colab": {}
      },
      "source": [
        "ay = a.copy()\n",
        "ay[:,1] = b[:,0]\n",
        "ay"
      ],
      "execution_count": 0,
      "outputs": []
    },
    {
      "cell_type": "code",
      "metadata": {
        "id": "h04AfbjjW-qr",
        "colab_type": "code",
        "colab": {}
      },
      "source": [
        "Dx = det(ax)\n",
        "Dy = det(ay)\n"
      ],
      "execution_count": 0,
      "outputs": []
    },
    {
      "cell_type": "code",
      "metadata": {
        "id": "dz3LlwpnXlU6",
        "colab_type": "code",
        "colab": {}
      },
      "source": [
        "x = Dx/D\n",
        "x"
      ],
      "execution_count": 0,
      "outputs": []
    },
    {
      "cell_type": "code",
      "metadata": {
        "id": "qR09VMUrXszF",
        "colab_type": "code",
        "colab": {}
      },
      "source": [
        "y = Dy/D\n",
        "y"
      ],
      "execution_count": 0,
      "outputs": []
    },
    {
      "cell_type": "code",
      "metadata": {
        "id": "ID21xB9qZAZf",
        "colab_type": "code",
        "colab": {}
      },
      "source": [
        "# Representacao grafica\n",
        "import matplotlib.pyplot as plt\n"
      ],
      "execution_count": 0,
      "outputs": []
    },
    {
      "cell_type": "code",
      "metadata": {
        "id": "P5fo1X6EZHxR",
        "colab_type": "code",
        "colab": {}
      },
      "source": [
        "x = np.linspace(-10, 10, 100)\n",
        "y1 = 2*x + 5\n",
        "y2 = -3*x + 2\n"
      ],
      "execution_count": 0,
      "outputs": []
    },
    {
      "cell_type": "code",
      "metadata": {
        "id": "yM90h4NxZUtB",
        "colab_type": "code",
        "colab": {}
      },
      "source": [
        "plt.plot(x, y1, 'red')\n",
        "plt.plot(x, y2, 'blue')\n",
        "plt.xlabel('X')\n",
        "plt.show()"
      ],
      "execution_count": 0,
      "outputs": []
    },
    {
      "cell_type": "code",
      "metadata": {
        "id": "AMYVuXr5aWjb",
        "colab_type": "code",
        "colab": {}
      },
      "source": [
        "q = np.array([[1, -2], [1, 3]])\n",
        "p = np.array([[5], [2]])"
      ],
      "execution_count": 0,
      "outputs": []
    },
    {
      "cell_type": "code",
      "metadata": {
        "id": "9ikGfuerah5F",
        "colab_type": "code",
        "colab": {}
      },
      "source": [
        "det(q)"
      ],
      "execution_count": 0,
      "outputs": []
    },
    {
      "cell_type": "code",
      "metadata": {
        "id": "-wUcMtNyakcT",
        "colab_type": "code",
        "colab": {}
      },
      "source": [
        "P = inv(q).dot(p)\n",
        "P"
      ],
      "execution_count": 0,
      "outputs": []
    },
    {
      "cell_type": "code",
      "metadata": {
        "id": "l7Zuef7sawyC",
        "colab_type": "code",
        "colab": {}
      },
      "source": [
        "plt.plot(x, y1, 'red')\n",
        "plt.plot(x, y2, 'blue')\n",
        "\n",
        "plt.plot(P[1], P[0], 'og')\n",
        "\n",
        "plt.xlabel('X')\n",
        "plt.ylabel('Y')"
      ],
      "execution_count": 0,
      "outputs": []
    }
  ]
}