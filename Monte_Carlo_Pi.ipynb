{
  "nbformat": 4,
  "nbformat_minor": 0,
  "metadata": {
    "colab": {
      "name": "Monte_Carlo_Pi.ipynb",
      "provenance": [],
      "authorship_tag": "ABX9TyPsfDeLym0vOYQcuAZaGUvo",
      "include_colab_link": true
    },
    "kernelspec": {
      "name": "python3",
      "display_name": "Python 3"
    }
  },
  "cells": [
    {
      "cell_type": "markdown",
      "metadata": {
        "id": "view-in-github",
        "colab_type": "text"
      },
      "source": [
        "<a href=\"https://colab.research.google.com/github/joscelino/Templates-e-Codigos-Basicos-em-Python/blob/master/Monte_Carlo_Pi.ipynb\" target=\"_parent\"><img src=\"https://colab.research.google.com/assets/colab-badge.svg\" alt=\"Open In Colab\"/></a>"
      ]
    },
    {
      "cell_type": "code",
      "metadata": {
        "id": "PG-PBCuShSI6",
        "colab_type": "code",
        "colab": {}
      },
      "source": [
        "import random"
      ],
      "execution_count": 0,
      "outputs": []
    },
    {
      "cell_type": "code",
      "metadata": {
        "id": "GV5Xu4dohYaP",
        "colab_type": "code",
        "colab": {}
      },
      "source": [
        "T = 20000 # Tentativas de sorteios"
      ],
      "execution_count": 0,
      "outputs": []
    },
    {
      "cell_type": "code",
      "metadata": {
        "id": "qalfkCOJhcbi",
        "colab_type": "code",
        "colab": {}
      },
      "source": [
        "I = 0\n",
        "for i in range(T):\n",
        "  x = random.random()\n",
        "  y = random.random()\n",
        "  if(((x*x) + (y*y)) < 1):\n",
        "    I += 1"
      ],
      "execution_count": 0,
      "outputs": []
    },
    {
      "cell_type": "code",
      "metadata": {
        "id": "0LMc3znmi7uY",
        "colab_type": "code",
        "colab": {
          "base_uri": "https://localhost:8080/",
          "height": 34
        },
        "outputId": "d1810090-31cc-4418-8dbc-e440e9729a90"
      },
      "source": [
        "I"
      ],
      "execution_count": 41,
      "outputs": [
        {
          "output_type": "execute_result",
          "data": {
            "text/plain": [
              "15719"
            ]
          },
          "metadata": {
            "tags": []
          },
          "execution_count": 41
        }
      ]
    },
    {
      "cell_type": "code",
      "metadata": {
        "id": "5mFOJjkmhxEk",
        "colab_type": "code",
        "colab": {}
      },
      "source": [
        "Pi_ = 4 * I / T\n"
      ],
      "execution_count": 0,
      "outputs": []
    },
    {
      "cell_type": "code",
      "metadata": {
        "id": "KSwwr5QDiFFG",
        "colab_type": "code",
        "colab": {
          "base_uri": "https://localhost:8080/",
          "height": 34
        },
        "outputId": "5cc5ee8e-2e7c-4bc7-fdd7-cabfd78bc542"
      },
      "source": [
        "Pi_"
      ],
      "execution_count": 43,
      "outputs": [
        {
          "output_type": "execute_result",
          "data": {
            "text/plain": [
              "3.1438"
            ]
          },
          "metadata": {
            "tags": []
          },
          "execution_count": 43
        }
      ]
    }
  ]
}