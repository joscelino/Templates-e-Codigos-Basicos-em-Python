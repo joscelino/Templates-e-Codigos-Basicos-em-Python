{
  "nbformat": 4,
  "nbformat_minor": 0,
  "metadata": {
    "colab": {
      "name": "Operacoes_com_matrizes.ipynb",
      "provenance": [],
      "collapsed_sections": [],
      "authorship_tag": "ABX9TyNXMVSSx/yd/6eETId1OCNn",
      "include_colab_link": true
    },
    "kernelspec": {
      "name": "python3",
      "display_name": "Python 3"
    }
  },
  "cells": [
    {
      "cell_type": "markdown",
      "metadata": {
        "id": "view-in-github",
        "colab_type": "text"
      },
      "source": [
        "<a href=\"https://colab.research.google.com/github/joscelino/Templates-e-Codigos-Basicos-em-Python/blob/master/Operacoes_com_matrizes.ipynb\" target=\"_parent\"><img src=\"https://colab.research.google.com/assets/colab-badge.svg\" alt=\"Open In Colab\"/></a>"
      ]
    },
    {
      "cell_type": "code",
      "metadata": {
        "id": "smDbbp8aC6UI",
        "colab_type": "code",
        "colab": {}
      },
      "source": [
        "''' Template de operacoes com matrizes em Python'''"
      ],
      "execution_count": 0,
      "outputs": []
    },
    {
      "cell_type": "code",
      "metadata": {
        "id": "T6iucQe7DIsY",
        "colab_type": "code",
        "colab": {}
      },
      "source": [
        "# Importacao das bibliotecas\n",
        "import numpy as np"
      ],
      "execution_count": 0,
      "outputs": []
    },
    {
      "cell_type": "code",
      "metadata": {
        "id": "Jbkslq4uDPLG",
        "colab_type": "code",
        "colab": {}
      },
      "source": [
        "# Forma de representacao 1\n",
        " A = np.array([[2, - 1], [0, 4]])\n",
        " A"
      ],
      "execution_count": 0,
      "outputs": []
    },
    {
      "cell_type": "code",
      "metadata": {
        "id": "VKVc3RjhDmDL",
        "colab_type": "code",
        "colab": {}
      },
      "source": [
        "B = np.array([[1, 0, -4], [4, -3, 8]])\n",
        "B"
      ],
      "execution_count": 0,
      "outputs": []
    },
    {
      "cell_type": "code",
      "metadata": {
        "id": "S_6Odw7-D0O3",
        "colab_type": "code",
        "colab": {}
      },
      "source": [
        "# Forma de representacao 2\n",
        "C = np.matrix('1, 2 ; 3, 4')\n",
        "C"
      ],
      "execution_count": 0,
      "outputs": []
    },
    {
      "cell_type": "code",
      "metadata": {
        "id": "ifAfdAiZEPEZ",
        "colab_type": "code",
        "colab": {}
      },
      "source": [
        "D = np.matrix([[1, 2, 3], [4, 5, 6]])\n",
        "D"
      ],
      "execution_count": 0,
      "outputs": []
    },
    {
      "cell_type": "code",
      "metadata": {
        "id": "684D3GayEdil",
        "colab_type": "code",
        "colab": {}
      },
      "source": [
        "# Tipos de Matrizes"
      ],
      "execution_count": 0,
      "outputs": []
    },
    {
      "cell_type": "code",
      "metadata": {
        "id": "6qDECbvyIDrG",
        "colab_type": "code",
        "colab": {}
      },
      "source": [
        "# Matriz Linha"
      ],
      "execution_count": 0,
      "outputs": []
    },
    {
      "cell_type": "code",
      "metadata": {
        "id": "CepTU5keIG5d",
        "colab_type": "code",
        "colab": {}
      },
      "source": [
        "# Matriz linha 1 \n",
        "ML = np.array([[3, 4, 5]])\n",
        "ML"
      ],
      "execution_count": 0,
      "outputs": []
    },
    {
      "cell_type": "code",
      "metadata": {
        "id": "UN1CZflOINV8",
        "colab_type": "code",
        "colab": {}
      },
      "source": [
        "ML.shape"
      ],
      "execution_count": 0,
      "outputs": []
    },
    {
      "cell_type": "code",
      "metadata": {
        "id": "bFTiR0vJIVr9",
        "colab_type": "code",
        "colab": {}
      },
      "source": [
        "# Matriz linha 2\n",
        "ML2 = np.array([3, 2, 1]).reshape(1, 3)\n",
        "ML2"
      ],
      "execution_count": 0,
      "outputs": []
    },
    {
      "cell_type": "code",
      "metadata": {
        "id": "KOcq7qHVIrEg",
        "colab_type": "code",
        "colab": {}
      },
      "source": [
        "ML2.shape"
      ],
      "execution_count": 0,
      "outputs": []
    },
    {
      "cell_type": "code",
      "metadata": {
        "id": "-lDQJ45UI6Av",
        "colab_type": "code",
        "colab": {}
      },
      "source": [
        "# Matriz Coluna"
      ],
      "execution_count": 0,
      "outputs": []
    },
    {
      "cell_type": "code",
      "metadata": {
        "id": "Ls3q7dbdKUma",
        "colab_type": "code",
        "colab": {}
      },
      "source": [
        "MC1 = np.array([[1], [2], [3], [4]])\n",
        "MC1"
      ],
      "execution_count": 0,
      "outputs": []
    },
    {
      "cell_type": "code",
      "metadata": {
        "id": "E9TXO7Z6Ks8F",
        "colab_type": "code",
        "colab": {}
      },
      "source": [
        "MC1.shape"
      ],
      "execution_count": 0,
      "outputs": []
    },
    {
      "cell_type": "code",
      "metadata": {
        "id": "kkmyOIGXK_QR",
        "colab_type": "code",
        "colab": {}
      },
      "source": [
        "# Matriz Nula"
      ],
      "execution_count": 0,
      "outputs": []
    },
    {
      "cell_type": "code",
      "metadata": {
        "id": "yR1ihiawLPpH",
        "colab_type": "code",
        "colab": {}
      },
      "source": [
        "MN = np.zeros([2, 2])\n",
        "MN"
      ],
      "execution_count": 0,
      "outputs": []
    },
    {
      "cell_type": "code",
      "metadata": {
        "id": "Brfmk-3DLrc2",
        "colab_type": "code",
        "colab": {}
      },
      "source": [
        "MN.shape"
      ],
      "execution_count": 0,
      "outputs": []
    },
    {
      "cell_type": "code",
      "metadata": {
        "colab_type": "code",
        "id": "R6IiuutvLymk",
        "colab": {}
      },
      "source": [
        "# Matriz Diagonal"
      ],
      "execution_count": 0,
      "outputs": []
    },
    {
      "cell_type": "code",
      "metadata": {
        "id": "OD2eUAHPMVA2",
        "colab_type": "code",
        "colab": {}
      },
      "source": [
        "MD = np.diag([1, 5, -2, 3, 6, 7])\n",
        "MD"
      ],
      "execution_count": 0,
      "outputs": []
    },
    {
      "cell_type": "code",
      "metadata": {
        "id": "u45NTt_0MlrY",
        "colab_type": "code",
        "colab": {}
      },
      "source": [
        "MD.shape"
      ],
      "execution_count": 0,
      "outputs": []
    },
    {
      "cell_type": "code",
      "metadata": {
        "id": "OnnZl1IZMpTq",
        "colab_type": "code",
        "colab": {}
      },
      "source": [
        "# Matriz identidade"
      ],
      "execution_count": 0,
      "outputs": []
    },
    {
      "cell_type": "code",
      "metadata": {
        "id": "uV3D2TP2MrRu",
        "colab_type": "code",
        "colab": {}
      },
      "source": [
        "MI = np.eye(7)\n",
        "MI"
      ],
      "execution_count": 0,
      "outputs": []
    },
    {
      "cell_type": "code",
      "metadata": {
        "id": "PC9YlGHfM7HZ",
        "colab_type": "code",
        "colab": {}
      },
      "source": [
        "MI.shape"
      ],
      "execution_count": 0,
      "outputs": []
    },
    {
      "cell_type": "code",
      "metadata": {
        "id": "i9xSLqByNBKP",
        "colab_type": "code",
        "colab": {}
      },
      "source": [
        "# Matriz Transposta"
      ],
      "execution_count": 0,
      "outputs": []
    },
    {
      "cell_type": "code",
      "metadata": {
        "id": "HSz6L1nLNDuQ",
        "colab_type": "code",
        "colab": {}
      },
      "source": [
        "MT = np.transpose(D)\n",
        "MT"
      ],
      "execution_count": 0,
      "outputs": []
    },
    {
      "cell_type": "code",
      "metadata": {
        "id": "R05DMYUONVgJ",
        "colab_type": "code",
        "colab": {}
      },
      "source": [
        "MTT = np.transpose(MT)\n",
        "MTT"
      ],
      "execution_count": 0,
      "outputs": []
    },
    {
      "cell_type": "code",
      "metadata": {
        "id": "UgJr4bkXNhhw",
        "colab_type": "code",
        "colab": {}
      },
      "source": [
        "# Outros exemplos"
      ],
      "execution_count": 0,
      "outputs": []
    },
    {
      "cell_type": "code",
      "metadata": {
        "id": "D_OeDTmNNkbn",
        "colab_type": "code",
        "colab": {}
      },
      "source": [
        "S = np.array([[1, 4, 3], [4, 2, 5], [3, 5, 0]])\n",
        "S1 = np.array([[1, 2, 3, 6,], [9, 7, 4, 6]])\n",
        "S2 = np.array([[8, 5, 3, 3], [1, 0, 1, 8]])"
      ],
      "execution_count": 0,
      "outputs": []
    },
    {
      "cell_type": "code",
      "metadata": {
        "id": "To9atX4uN4zX",
        "colab_type": "code",
        "colab": {}
      },
      "source": [
        "np.transpose(S)"
      ],
      "execution_count": 0,
      "outputs": []
    },
    {
      "cell_type": "code",
      "metadata": {
        "id": "F8pPai1rOA76",
        "colab_type": "code",
        "colab": {}
      },
      "source": [
        "np.transpose(S1)"
      ],
      "execution_count": 0,
      "outputs": []
    },
    {
      "cell_type": "code",
      "metadata": {
        "id": "WXjHmpclOD1V",
        "colab_type": "code",
        "colab": {}
      },
      "source": [
        "np.transpose(S2)"
      ],
      "execution_count": 0,
      "outputs": []
    },
    {
      "cell_type": "code",
      "metadata": {
        "id": "yjtqydgzOHUL",
        "colab_type": "code",
        "colab": {}
      },
      "source": [
        "S.T"
      ],
      "execution_count": 0,
      "outputs": []
    },
    {
      "cell_type": "code",
      "metadata": {
        "id": "Mqx3S1zKOMHZ",
        "colab_type": "code",
        "colab": {}
      },
      "source": [
        "# Verificando a simetria e outras propriedades de matrizes"
      ],
      "execution_count": 0,
      "outputs": []
    },
    {
      "cell_type": "code",
      "metadata": {
        "id": "nS3NImQ4OTOK",
        "colab_type": "code",
        "colab": {}
      },
      "source": [
        "np.array_equal(S , S.T)"
      ],
      "execution_count": 0,
      "outputs": []
    },
    {
      "cell_type": "code",
      "metadata": {
        "colab_type": "code",
        "id": "czerumtSOdVQ",
        "colab": {}
      },
      "source": [
        "np.array_equal(S1 , S1.T)"
      ],
      "execution_count": 0,
      "outputs": []
    },
    {
      "cell_type": "code",
      "metadata": {
        "colab_type": "code",
        "id": "EpA9vBCmOhsB",
        "colab": {}
      },
      "source": [
        "np.array_equal(S1.T.T,  S1)"
      ],
      "execution_count": 0,
      "outputs": []
    },
    {
      "cell_type": "code",
      "metadata": {
        "id": "i_9HoXH4PFqv",
        "colab_type": "code",
        "colab": {}
      },
      "source": [
        "np.array_equal((S2 + S1).T, S2.T + S1.T)"
      ],
      "execution_count": 0,
      "outputs": []
    },
    {
      "cell_type": "code",
      "metadata": {
        "id": "-GUPD1ArPb3n",
        "colab_type": "code",
        "colab": {}
      },
      "source": [
        "K = 7\n",
        "np.array_equal((K*S1).T, K*S1.T)"
      ],
      "execution_count": 0,
      "outputs": []
    },
    {
      "cell_type": "code",
      "metadata": {
        "id": "mR1lL2xzkMF4",
        "colab_type": "code",
        "colab": {}
      },
      "source": [
        "# Slicing de MAtrizes"
      ],
      "execution_count": 0,
      "outputs": []
    },
    {
      "cell_type": "code",
      "metadata": {
        "id": "MxaIPftZkQ6q",
        "colab_type": "code",
        "colab": {}
      },
      "source": [
        "Matriz_slice = np.array([[2,4,6], [4,7,1], [9,3,8]])\n",
        "Matriz_slice"
      ],
      "execution_count": 0,
      "outputs": []
    },
    {
      "cell_type": "code",
      "metadata": {
        "id": "-KE899CFkfpM",
        "colab_type": "code",
        "colab": {}
      },
      "source": [
        "Matriz_slice.shape"
      ],
      "execution_count": 0,
      "outputs": []
    },
    {
      "cell_type": "code",
      "metadata": {
        "id": "MRmzyH1Dkmz3",
        "colab_type": "code",
        "colab": {}
      },
      "source": [
        "Matriz_slice[:]"
      ],
      "execution_count": 0,
      "outputs": []
    },
    {
      "cell_type": "code",
      "metadata": {
        "id": "2TLLZJmWksOB",
        "colab_type": "code",
        "colab": {}
      },
      "source": [
        "Matriz_slice[:, :]"
      ],
      "execution_count": 0,
      "outputs": []
    },
    {
      "cell_type": "code",
      "metadata": {
        "id": "C0N_LrTqkxJF",
        "colab_type": "code",
        "colab": {}
      },
      "source": [
        "Matriz_slice[1,:]"
      ],
      "execution_count": 0,
      "outputs": []
    },
    {
      "cell_type": "code",
      "metadata": {
        "id": "VqDmMRwFk7YX",
        "colab_type": "code",
        "colab": {}
      },
      "source": [
        "Matriz_slice[2,:]"
      ],
      "execution_count": 0,
      "outputs": []
    },
    {
      "cell_type": "code",
      "metadata": {
        "id": "28BalBGQk_Zr",
        "colab_type": "code",
        "colab": {}
      },
      "source": [
        "Matriz_slice[:,2]"
      ],
      "execution_count": 0,
      "outputs": []
    },
    {
      "cell_type": "code",
      "metadata": {
        "id": "WSFbBCJ4lCvg",
        "colab_type": "code",
        "colab": {}
      },
      "source": [
        "Matriz_slice[1,1]"
      ],
      "execution_count": 0,
      "outputs": []
    },
    {
      "cell_type": "code",
      "metadata": {
        "id": "okE3EJU3lGT9",
        "colab_type": "code",
        "colab": {}
      },
      "source": [
        "Matriz_slice[1:2] = 77"
      ],
      "execution_count": 0,
      "outputs": []
    },
    {
      "cell_type": "code",
      "metadata": {
        "id": "s5UQq_WHla9x",
        "colab_type": "code",
        "colab": {}
      },
      "source": [
        "Matriz_slice"
      ],
      "execution_count": 0,
      "outputs": []
    },
    {
      "cell_type": "code",
      "metadata": {
        "id": "N_ctq12vlfeo",
        "colab_type": "code",
        "colab": {}
      },
      "source": [
        "# Copiar Matriz"
      ],
      "execution_count": 0,
      "outputs": []
    },
    {
      "cell_type": "code",
      "metadata": {
        "id": "xukonx7nlh9L",
        "colab_type": "code",
        "colab": {}
      },
      "source": [
        "matriz_copia = Matriz_slice.copy()\n",
        "matriz_copia"
      ],
      "execution_count": 0,
      "outputs": []
    },
    {
      "cell_type": "code",
      "metadata": {
        "id": "rIzGvKqslqF9",
        "colab_type": "code",
        "colab": {}
      },
      "source": [
        "matriz_copia[2,0] = 15\n",
        "matriz_copia"
      ],
      "execution_count": 0,
      "outputs": []
    },
    {
      "cell_type": "code",
      "metadata": {
        "id": "sJ7TB-aUlz_K",
        "colab_type": "code",
        "colab": {}
      },
      "source": [
        "nova_matriz = matriz_copia[:,1]\n",
        "nova_matriz"
      ],
      "execution_count": 0,
      "outputs": []
    },
    {
      "cell_type": "code",
      "metadata": {
        "id": "fxiK2V41mFeC",
        "colab_type": "code",
        "colab": {}
      },
      "source": [
        "matriz_quatro = np.array([[2, 3, 7, 1], [8, 6, 9, 3], [6, 9, 3, 2], [4, 3, 7, 5]])\n",
        "matriz_quatro"
      ],
      "execution_count": 0,
      "outputs": []
    },
    {
      "cell_type": "code",
      "metadata": {
        "id": "OqnekELtmbuB",
        "colab_type": "code",
        "colab": {}
      },
      "source": [
        "matriz_quatro.shape"
      ],
      "execution_count": 0,
      "outputs": []
    },
    {
      "cell_type": "code",
      "metadata": {
        "id": "4UwryAlqmgfM",
        "colab_type": "code",
        "colab": {}
      },
      "source": [
        "matriz_quatro[2,1:4]"
      ],
      "execution_count": 0,
      "outputs": []
    },
    {
      "cell_type": "code",
      "metadata": {
        "id": "1AY_H9YPm0R6",
        "colab_type": "code",
        "colab": {}
      },
      "source": [
        "# Multiplicacao de Matrizes"
      ],
      "execution_count": 0,
      "outputs": []
    },
    {
      "cell_type": "code",
      "metadata": {
        "id": "bb-YzlS46DdO",
        "colab_type": "code",
        "colab": {}
      },
      "source": [
        "Amm = np.array([[2, 4, 6], [1, 2 , 7], [3, 2, 9]])\n",
        "Bmm = np.array([[-1, 4, 5], [6, 3, 1]])\n",
        "Cmm = np.array([[5, 4, 3], [1, -3, -1], [3, 1, 2]])"
      ],
      "execution_count": 0,
      "outputs": []
    },
    {
      "cell_type": "code",
      "metadata": {
        "id": "ITuJM_eu8FUd",
        "colab_type": "code",
        "colab": {}
      },
      "source": [
        "print(Amm)"
      ],
      "execution_count": 0,
      "outputs": []
    },
    {
      "cell_type": "code",
      "metadata": {
        "id": "O8F6aYoU8MJd",
        "colab_type": "code",
        "colab": {}
      },
      "source": [
        "Amm.shape"
      ],
      "execution_count": 0,
      "outputs": []
    },
    {
      "cell_type": "code",
      "metadata": {
        "id": "jRavGxZA8PC5",
        "colab_type": "code",
        "colab": {}
      },
      "source": [
        "print(Bmm)"
      ],
      "execution_count": 0,
      "outputs": []
    },
    {
      "cell_type": "code",
      "metadata": {
        "id": "ovIC9t5a8RUy",
        "colab_type": "code",
        "colab": {}
      },
      "source": [
        "Bmm.shape"
      ],
      "execution_count": 0,
      "outputs": []
    },
    {
      "cell_type": "code",
      "metadata": {
        "id": "Bh939A_t8Tak",
        "colab_type": "code",
        "colab": {}
      },
      "source": [
        "print(Cmm)"
      ],
      "execution_count": 0,
      "outputs": []
    },
    {
      "cell_type": "code",
      "metadata": {
        "id": "X22GF4nn8Vdk",
        "colab_type": "code",
        "colab": {}
      },
      "source": [
        "Cmm.shape"
      ],
      "execution_count": 0,
      "outputs": []
    },
    {
      "cell_type": "code",
      "metadata": {
        "id": "PXu2OnHH8Yp6",
        "colab_type": "code",
        "colab": {}
      },
      "source": [
        "# Soma de Matrizes"
      ],
      "execution_count": 0,
      "outputs": []
    },
    {
      "cell_type": "code",
      "metadata": {
        "id": "QA37qc2n8fzm",
        "colab_type": "code",
        "colab": {}
      },
      "source": [
        "# Soma de duas linhas\n",
        "SL_AB = Amm[0,:] + Bmm[0,:]\n",
        "SL_AB"
      ],
      "execution_count": 0,
      "outputs": []
    },
    {
      "cell_type": "code",
      "metadata": {
        "id": "r5JjYPBf88YF",
        "colab_type": "code",
        "colab": {}
      },
      "source": [
        "# Soma Matrizes\n",
        "SM_AC = Amm + Cmm\n",
        "SM_AC"
      ],
      "execution_count": 0,
      "outputs": []
    },
    {
      "cell_type": "code",
      "metadata": {
        "id": "zvFZHeXq9ERo",
        "colab_type": "code",
        "colab": {}
      },
      "source": [
        "# Subtracao de Matrizes\n",
        "S_AC = Amm - Cmm\n",
        "S_AC"
      ],
      "execution_count": 0,
      "outputs": []
    },
    {
      "cell_type": "code",
      "metadata": {
        "id": "AwuCxm_K9VLn",
        "colab_type": "code",
        "colab": {}
      },
      "source": [
        "# Multiplicacao de matrizes\n",
        "M_AC= Amm.dot(Cmm)\n",
        "M_AC"
      ],
      "execution_count": 0,
      "outputs": []
    },
    {
      "cell_type": "code",
      "metadata": {
        "id": "qPzRjbQB9lty",
        "colab_type": "code",
        "colab": {}
      },
      "source": [
        "M_BA = Bmm.dot(Amm)\n",
        "M_BA"
      ],
      "execution_count": 0,
      "outputs": []
    },
    {
      "cell_type": "code",
      "metadata": {
        "id": "yxgAReCR9xk6",
        "colab_type": "code",
        "colab": {}
      },
      "source": [
        "# Divisao entre matrizes"
      ],
      "execution_count": 0,
      "outputs": []
    },
    {
      "cell_type": "code",
      "metadata": {
        "id": "B4ohaDpC9zpW",
        "colab_type": "code",
        "colab": {}
      },
      "source": [
        "D_AC = Amm / Cmm\n",
        "print(D_AC)"
      ],
      "execution_count": 0,
      "outputs": []
    },
    {
      "cell_type": "code",
      "metadata": {
        "id": "DD36uvqf-Efc",
        "colab_type": "code",
        "colab": {}
      },
      "source": [
        "# Multiplicacao por escalar\n",
        "k = 2.61\n",
        "print(Amm * k)"
      ],
      "execution_count": 0,
      "outputs": []
    }
  ]
}