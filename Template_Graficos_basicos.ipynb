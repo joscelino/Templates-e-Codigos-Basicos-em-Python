{
  "nbformat": 4,
  "nbformat_minor": 0,
  "metadata": {
    "colab": {
      "name": "Template_Graficos_basicos.ipynb",
      "provenance": []
    },
    "kernelspec": {
      "name": "python3",
      "display_name": "Python 3"
    }
  },
  "cells": [
    {
      "cell_type": "code",
      "metadata": {
        "id": "hLn6GQMToIEY",
        "colab_type": "code",
        "colab": {}
      },
      "source": [
        "import matplotlib.pyplot as plt\n",
        "import seaborn as sns\n",
        "import numpy as np"
      ],
      "execution_count": 0,
      "outputs": []
    },
    {
      "cell_type": "code",
      "metadata": {
        "id": "W1kjICdjodIC",
        "colab_type": "code",
        "colab": {}
      },
      "source": [
        "# Dados \n",
        "y = [2, 5, 2, 7, 6, 1]\n",
        "x = ['N1', 'N2', 'N3', 'N4', 'N5', 'N6']"
      ],
      "execution_count": 0,
      "outputs": []
    },
    {
      "cell_type": "code",
      "metadata": {
        "id": "kPi-lqfKo6Yv",
        "colab_type": "code",
        "colab": {}
      },
      "source": [
        "# Grafico de barras horizontais usando Matplotlib\n",
        "plt.barh(x, y, color='b')\n",
        "plt.xlabel('Variavel eixo X', size = 16)\n",
        "plt.ylabel('Categorias', size = 16)\n",
        "plt.title('Titulo do Grafico')\n",
        "plt.show()"
      ],
      "execution_count": 0,
      "outputs": []
    },
    {
      "cell_type": "code",
      "metadata": {
        "id": "nncSF70EpbR7",
        "colab_type": "code",
        "colab": {}
      },
      "source": [
        "# Grafico de barras verticais\n",
        "plt.bar(x, y, color='b')\n",
        "plt.show()\n"
      ],
      "execution_count": 0,
      "outputs": []
    },
    {
      "cell_type": "code",
      "metadata": {
        "colab_type": "code",
        "id": "3W4aOV28pxTb",
        "colab": {}
      },
      "source": [
        "# Grafico de barras horizontais usando Matplotlib\n",
        "plt.bar(x, y, color='b')\n",
        "plt.xlabel('Variavel eixo X', size = 16)\n",
        "plt.ylabel('Categorias', size = 16)\n",
        "plt.title('Titulo do Grafico')\n",
        "plt.show()"
      ],
      "execution_count": 0,
      "outputs": []
    },
    {
      "cell_type": "code",
      "metadata": {
        "colab_type": "code",
        "id": "GvfA7Ibzrauc",
        "colab": {}
      },
      "source": [
        "# Grafico de barras horizontais usando Seaborn\n",
        "sns.barplot(x, y)\n",
        "plt.xlabel('Variavel eixo X', size = 16)\n",
        "plt.ylabel('Categorias', size = 16)\n",
        "plt.title('Titulo do Grafico')\n",
        "plt.show()"
      ],
      "execution_count": 0,
      "outputs": []
    },
    {
      "cell_type": "code",
      "metadata": {
        "id": "Jj307UDhp6sK",
        "colab_type": "code",
        "colab": {}
      },
      "source": [
        "# Grafico de Setores utilizando Matplotlib\n",
        "plt.pie(y, labels=x, radius = 1.5)\n",
        "plt.show()"
      ],
      "execution_count": 0,
      "outputs": []
    },
    {
      "cell_type": "code",
      "metadata": {
        "id": "PPzrdY3OsKEJ",
        "colab_type": "code",
        "colab": {}
      },
      "source": [
        "# Variaveis de teste\n",
        "z = [6, 8, 3, 1, 9]\n",
        "w = [1, 2, 3, 4, 5]\n",
        "s = ['seg', 'ter', 'qua', 'qui', 'sex']"
      ],
      "execution_count": 0,
      "outputs": []
    },
    {
      "cell_type": "code",
      "metadata": {
        "id": "lxWWlpMstHGn",
        "colab_type": "code",
        "colab": {}
      },
      "source": [
        "# Grafico de linhas utilizando Matplotlib\n",
        "plt.plot(w, z)\n",
        "plt.xlabel('Eixo x', size = 16)\n",
        "plt.ylabel('Eixo y', size = 16)\n",
        "plt.show()\n"
      ],
      "execution_count": 0,
      "outputs": []
    },
    {
      "cell_type": "code",
      "metadata": {
        "colab_type": "code",
        "id": "9b0AiuCrtjy-",
        "colab": {}
      },
      "source": [
        "# Grafico de linhas utilizando Matplotlib\n",
        "plt.plot(s, z)\n",
        "plt.xlabel('Eixo x', size = 16)\n",
        "plt.ylabel('Eixo y', size = 16)\n",
        "plt.show()\n"
      ],
      "execution_count": 0,
      "outputs": []
    },
    {
      "cell_type": "code",
      "metadata": {
        "colab_type": "code",
        "id": "obpOxfiDtwcH",
        "colab": {}
      },
      "source": [
        "# Grafico de pontos utilizando Matplotlib\n",
        "plt.plot(w, z, '*')\n",
        "plt.xlabel('Eixo x', size = 16)\n",
        "plt.ylabel('Eixo y', size = 16)\n",
        "plt.show()\n"
      ],
      "execution_count": 0,
      "outputs": []
    },
    {
      "cell_type": "code",
      "metadata": {
        "colab_type": "code",
        "id": "rJ38bevKuAlJ",
        "colab": {}
      },
      "source": [
        "# Grafico de linha com pontos utilizando Matplotlib\n",
        "plt.plot(s, z, 'o-')\n",
        "plt.xlabel('Eixo x', size = 16)\n",
        "plt.ylabel('Eixo y', size = 16)\n",
        "plt.show()\n"
      ],
      "execution_count": 0,
      "outputs": []
    },
    {
      "cell_type": "code",
      "metadata": {
        "id": "gy9kV71qvFMv",
        "colab_type": "code",
        "colab": {}
      },
      "source": [
        "# Gerando numeros aleatorios\n",
        "x = np.random.randn(1000)"
      ],
      "execution_count": 0,
      "outputs": []
    },
    {
      "cell_type": "code",
      "metadata": {
        "id": "UEbW9Z7iv01o",
        "colab_type": "code",
        "colab": {}
      },
      "source": [
        "x\n"
      ],
      "execution_count": 0,
      "outputs": []
    },
    {
      "cell_type": "code",
      "metadata": {
        "id": "9t6QWOdlv2k8",
        "colab_type": "code",
        "colab": {}
      },
      "source": [
        "# Histograma usando Matplotlib\n",
        "plt.hist(x, bins=15, color='g')\n",
        "plt.xlabel('Eixo X', size = 16)\n",
        "plt.ylabel('Eixo Y', size = 16)\n",
        "plt.title('Grafico Histograma')\n",
        "plt.show()"
      ],
      "execution_count": 0,
      "outputs": []
    },
    {
      "cell_type": "code",
      "metadata": {
        "id": "6zwyJaPwwpg0",
        "colab_type": "code",
        "colab": {}
      },
      "source": [
        ""
      ],
      "execution_count": 0,
      "outputs": []
    }
  ]
}