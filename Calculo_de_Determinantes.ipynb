{
  "nbformat": 4,
  "nbformat_minor": 0,
  "metadata": {
    "colab": {
      "name": "Calculo de Determinantes.ipynb",
      "provenance": [],
      "authorship_tag": "ABX9TyMAVF/1WWSQEEukPHp6arMq",
      "include_colab_link": true
    },
    "kernelspec": {
      "name": "python3",
      "display_name": "Python 3"
    }
  },
  "cells": [
    {
      "cell_type": "markdown",
      "metadata": {
        "id": "view-in-github",
        "colab_type": "text"
      },
      "source": [
        "<a href=\"https://colab.research.google.com/github/joscelino/Templates-e-Codigos-Basicos-em-Python/blob/master/Calculo_de_Determinantes.ipynb\" target=\"_parent\"><img src=\"https://colab.research.google.com/assets/colab-badge.svg\" alt=\"Open In Colab\"/></a>"
      ]
    },
    {
      "cell_type": "code",
      "metadata": {
        "id": "H3OWV7Capb2D",
        "colab_type": "code",
        "colab": {}
      },
      "source": [
        "import numpy as np\n",
        "from numpy.linalg import det"
      ],
      "execution_count": 0,
      "outputs": []
    },
    {
      "cell_type": "code",
      "metadata": {
        "id": "YmzPB1TWpkOO",
        "colab_type": "code",
        "outputId": "d656457c-e22b-4e4d-cc67-27588acec7e3",
        "colab": {
          "base_uri": "https://localhost:8080/",
          "height": 68
        }
      },
      "source": [
        "A = np.array([[1, 2, 4], [5, 3, -1], [7, 2, 0]])\n",
        "A"
      ],
      "execution_count": 2,
      "outputs": [
        {
          "output_type": "execute_result",
          "data": {
            "text/plain": [
              "array([[ 1,  2,  4],\n",
              "       [ 5,  3, -1],\n",
              "       [ 7,  2,  0]])"
            ]
          },
          "metadata": {
            "tags": []
          },
          "execution_count": 2
        }
      ]
    },
    {
      "cell_type": "code",
      "metadata": {
        "id": "BKM1pKMDrRdG",
        "colab_type": "code",
        "outputId": "4ab88c50-b8d0-43a2-d7c3-d646f3f40c04",
        "colab": {
          "base_uri": "https://localhost:8080/",
          "height": 34
        }
      },
      "source": [
        "det_A = np.linalg.det(A)\n",
        "det_A"
      ],
      "execution_count": 3,
      "outputs": [
        {
          "output_type": "execute_result",
          "data": {
            "text/plain": [
              "-56.00000000000002"
            ]
          },
          "metadata": {
            "tags": []
          },
          "execution_count": 3
        }
      ]
    },
    {
      "cell_type": "code",
      "metadata": {
        "colab_type": "code",
        "outputId": "992abbc8-14f0-44dd-f702-13526a37e43c",
        "id": "5vdBuxd8reRg",
        "colab": {
          "base_uri": "https://localhost:8080/",
          "height": 68
        }
      },
      "source": [
        "B = np.array([[2.3, 7, 15], [0, -3, -1], [7, -2, 10]])\n",
        "B"
      ],
      "execution_count": 4,
      "outputs": [
        {
          "output_type": "execute_result",
          "data": {
            "text/plain": [
              "array([[ 2.3,  7. , 15. ],\n",
              "       [ 0. , -3. , -1. ],\n",
              "       [ 7. , -2. , 10. ]])"
            ]
          },
          "metadata": {
            "tags": []
          },
          "execution_count": 4
        }
      ]
    },
    {
      "cell_type": "code",
      "metadata": {
        "id": "tg4sIlzQroug",
        "colab_type": "code",
        "outputId": "e467fd46-c4da-4efe-dc37-ba516b77a13e",
        "colab": {
          "base_uri": "https://localhost:8080/",
          "height": 34
        }
      },
      "source": [
        "det_B = det(B)\n",
        "det_B"
      ],
      "execution_count": 5,
      "outputs": [
        {
          "output_type": "execute_result",
          "data": {
            "text/plain": [
              "192.39999999999998"
            ]
          },
          "metadata": {
            "tags": []
          },
          "execution_count": 5
        }
      ]
    },
    {
      "cell_type": "code",
      "metadata": {
        "id": "Vg4kJAw7rzRs",
        "colab_type": "code",
        "colab": {
          "base_uri": "https://localhost:8080/",
          "height": 68
        },
        "outputId": "51851e8d-a37f-4825-d491-4458cfbaadb8"
      },
      "source": [
        "# Matriz AZ Nula\n",
        "AZ = np.zeros([3, 3])\n",
        "AZ"
      ],
      "execution_count": 6,
      "outputs": [
        {
          "output_type": "execute_result",
          "data": {
            "text/plain": [
              "array([[0., 0., 0.],\n",
              "       [0., 0., 0.],\n",
              "       [0., 0., 0.]])"
            ]
          },
          "metadata": {
            "tags": []
          },
          "execution_count": 6
        }
      ]
    },
    {
      "cell_type": "code",
      "metadata": {
        "id": "qrJ8WgL7RkZC",
        "colab_type": "code",
        "colab": {}
      },
      "source": [
        "# PROPRIEDADES"
      ],
      "execution_count": 0,
      "outputs": []
    },
    {
      "cell_type": "code",
      "metadata": {
        "id": "iZ0U-OmVRtoy",
        "colab_type": "code",
        "colab": {
          "base_uri": "https://localhost:8080/",
          "height": 34
        },
        "outputId": "960b351e-0719-4b92-da9c-ef0dca4d1e5e"
      },
      "source": [
        "# 1) Determinante de matriz nula = 0\n",
        "det(AZ)\n"
      ],
      "execution_count": 7,
      "outputs": [
        {
          "output_type": "execute_result",
          "data": {
            "text/plain": [
              "0.0"
            ]
          },
          "metadata": {
            "tags": []
          },
          "execution_count": 7
        }
      ]
    },
    {
      "cell_type": "code",
      "metadata": {
        "id": "NMX7FuXbR3yN",
        "colab_type": "code",
        "colab": {
          "base_uri": "https://localhost:8080/",
          "height": 34
        },
        "outputId": "f42d4ce8-31af-48d6-8ce3-e24c8a9954a6"
      },
      "source": [
        "# 2) det(A) = det(A.T)\n",
        "det(A.T)"
      ],
      "execution_count": 9,
      "outputs": [
        {
          "output_type": "execute_result",
          "data": {
            "text/plain": [
              "-55.99999999999997"
            ]
          },
          "metadata": {
            "tags": []
          },
          "execution_count": 9
        }
      ]
    },
    {
      "cell_type": "code",
      "metadata": {
        "id": "tfLpIErgSJFE",
        "colab_type": "code",
        "colab": {
          "base_uri": "https://localhost:8080/",
          "height": 68
        },
        "outputId": "3346c5fb-5f2d-4cbb-8b6f-a0ff2cf75d12"
      },
      "source": [
        "# 3) Se B= k*A[0,:], det(B) = k* det(A)\n",
        "k = 3\n",
        "B = A.copy()\n",
        "B[0, :] = k*B[0, :]\n",
        "B"
      ],
      "execution_count": 10,
      "outputs": [
        {
          "output_type": "execute_result",
          "data": {
            "text/plain": [
              "array([[ 3,  6, 12],\n",
              "       [ 5,  3, -1],\n",
              "       [ 7,  2,  0]])"
            ]
          },
          "metadata": {
            "tags": []
          },
          "execution_count": 10
        }
      ]
    },
    {
      "cell_type": "code",
      "metadata": {
        "id": "trllPUyVSqGB",
        "colab_type": "code",
        "colab": {
          "base_uri": "https://localhost:8080/",
          "height": 34
        },
        "outputId": "ebd7e303-0c8e-49cd-eea6-decdcaa55764"
      },
      "source": [
        "det(B)"
      ],
      "execution_count": 11,
      "outputs": [
        {
          "output_type": "execute_result",
          "data": {
            "text/plain": [
              "-167.99999999999997"
            ]
          },
          "metadata": {
            "tags": []
          },
          "execution_count": 11
        }
      ]
    },
    {
      "cell_type": "code",
      "metadata": {
        "id": "dZwQltflSvV2",
        "colab_type": "code",
        "colab": {
          "base_uri": "https://localhost:8080/",
          "height": 34
        },
        "outputId": "cc1a56ed-a770-4a50-9438-420d1d25ab8a"
      },
      "source": [
        "k*det(A)"
      ],
      "execution_count": 12,
      "outputs": [
        {
          "output_type": "execute_result",
          "data": {
            "text/plain": [
              "-168.00000000000006"
            ]
          },
          "metadata": {
            "tags": []
          },
          "execution_count": 12
        }
      ]
    },
    {
      "cell_type": "code",
      "metadata": {
        "id": "mb2ItTA1SyIW",
        "colab_type": "code",
        "colab": {}
      },
      "source": [
        "# 4) Se trocarmos a posicao de duas linhas o det muda de sinal\n",
        "L1 = A[0, :] # linha 1\n",
        "L2 = A[1, :] # linha 2\n",
        "L3 = A[2, :] # linha 3"
      ],
      "execution_count": 0,
      "outputs": []
    },
    {
      "cell_type": "code",
      "metadata": {
        "id": "hm_0zslCTGW8",
        "colab_type": "code",
        "colab": {
          "base_uri": "https://localhost:8080/",
          "height": 68
        },
        "outputId": "ddbaa3b3-ce2d-4b76-da81-3465784b2f64"
      },
      "source": [
        "C = np.array([L2, L1, L3])\n",
        "C"
      ],
      "execution_count": 15,
      "outputs": [
        {
          "output_type": "execute_result",
          "data": {
            "text/plain": [
              "array([[ 5,  3, -1],\n",
              "       [ 1,  2,  4],\n",
              "       [ 7,  2,  0]])"
            ]
          },
          "metadata": {
            "tags": []
          },
          "execution_count": 15
        }
      ]
    },
    {
      "cell_type": "code",
      "metadata": {
        "id": "BdmfclV8TXQq",
        "colab_type": "code",
        "colab": {
          "base_uri": "https://localhost:8080/",
          "height": 34
        },
        "outputId": "3eb22f2c-8baf-4dc8-85b3-798c615feb69"
      },
      "source": [
        "det(C)"
      ],
      "execution_count": 16,
      "outputs": [
        {
          "output_type": "execute_result",
          "data": {
            "text/plain": [
              "56.00000000000002"
            ]
          },
          "metadata": {
            "tags": []
          },
          "execution_count": 16
        }
      ]
    },
    {
      "cell_type": "code",
      "metadata": {
        "id": "nktJHg0BTY-t",
        "colab_type": "code",
        "colab": {
          "base_uri": "https://localhost:8080/",
          "height": 34
        },
        "outputId": "92536da0-8d58-4e11-bce0-71599f2b1d54"
      },
      "source": [
        "det(A)"
      ],
      "execution_count": 17,
      "outputs": [
        {
          "output_type": "execute_result",
          "data": {
            "text/plain": [
              "-56.00000000000002"
            ]
          },
          "metadata": {
            "tags": []
          },
          "execution_count": 17
        }
      ]
    },
    {
      "cell_type": "code",
      "metadata": {
        "id": "eGNYHrNyTa0V",
        "colab_type": "code",
        "colab": {}
      },
      "source": [
        "# 5) Matriz com duas linhas iguais -> det = 0"
      ],
      "execution_count": 0,
      "outputs": []
    },
    {
      "cell_type": "code",
      "metadata": {
        "id": "HaPbBaNkTjos",
        "colab_type": "code",
        "colab": {
          "base_uri": "https://localhost:8080/",
          "height": 68
        },
        "outputId": "7e83294d-d997-4847-f394-2009a3c09427"
      },
      "source": [
        "D = np.array([L1, L1, L2])\n",
        "D"
      ],
      "execution_count": 19,
      "outputs": [
        {
          "output_type": "execute_result",
          "data": {
            "text/plain": [
              "array([[ 1,  2,  4],\n",
              "       [ 1,  2,  4],\n",
              "       [ 5,  3, -1]])"
            ]
          },
          "metadata": {
            "tags": []
          },
          "execution_count": 19
        }
      ]
    },
    {
      "cell_type": "code",
      "metadata": {
        "id": "iU2Gs3w2TrA_",
        "colab_type": "code",
        "colab": {
          "base_uri": "https://localhost:8080/",
          "height": 34
        },
        "outputId": "33e648ee-921f-4bf0-a887-5d83068c83a6"
      },
      "source": [
        "det(D)"
      ],
      "execution_count": 20,
      "outputs": [
        {
          "output_type": "execute_result",
          "data": {
            "text/plain": [
              "0.0"
            ]
          },
          "metadata": {
            "tags": []
          },
          "execution_count": 20
        }
      ]
    },
    {
      "cell_type": "code",
      "metadata": {
        "id": "YNPVA416Tzrk",
        "colab_type": "code",
        "colab": {}
      },
      "source": [
        "# Det(A+B) != det(A) + det(B)"
      ],
      "execution_count": 0,
      "outputs": []
    },
    {
      "cell_type": "code",
      "metadata": {
        "id": "CL4dBw2bT9Vc",
        "colab_type": "code",
        "colab": {
          "base_uri": "https://localhost:8080/",
          "height": 34
        },
        "outputId": "fbdf4db5-3c13-4760-beb1-c4a9f348445a"
      },
      "source": [
        "A = np.array(([1, 2, 4], [3, 3, -1], [7, 2, 0]))\n",
        "B = np.array(([0, 5, 4], [8, 2, 1], [9, -2, 3]))\n",
        "np.array_equal(det(A+B), det(A)+det(B))"
      ],
      "execution_count": 22,
      "outputs": [
        {
          "output_type": "execute_result",
          "data": {
            "text/plain": [
              "False"
            ]
          },
          "metadata": {
            "tags": []
          },
          "execution_count": 22
        }
      ]
    },
    {
      "cell_type": "code",
      "metadata": {
        "id": "WrG9pmgXUbf9",
        "colab_type": "code",
        "colab": {}
      },
      "source": [
        "# 7) det(A.dot(B)) = det(A)*det(B)"
      ],
      "execution_count": 0,
      "outputs": []
    },
    {
      "cell_type": "code",
      "metadata": {
        "id": "ZvMGuCaPUjRh",
        "colab_type": "code",
        "colab": {
          "base_uri": "https://localhost:8080/",
          "height": 34
        },
        "outputId": "a19ea4a9-84b2-484a-a165-a901950a0f3d"
      },
      "source": [
        "det(A.dot(B))"
      ],
      "execution_count": 23,
      "outputs": [
        {
          "output_type": "execute_result",
          "data": {
            "text/plain": [
              "15192.000000000002"
            ]
          },
          "metadata": {
            "tags": []
          },
          "execution_count": 23
        }
      ]
    },
    {
      "cell_type": "code",
      "metadata": {
        "id": "3x5KVA9qUmxy",
        "colab_type": "code",
        "colab": {
          "base_uri": "https://localhost:8080/",
          "height": 34
        },
        "outputId": "f6a6beb0-196b-4a23-883e-50435afc46bd"
      },
      "source": [
        "det(A) * det(B)"
      ],
      "execution_count": 24,
      "outputs": [
        {
          "output_type": "execute_result",
          "data": {
            "text/plain": [
              "15191.999999999989"
            ]
          },
          "metadata": {
            "tags": []
          },
          "execution_count": 24
        }
      ]
    }
  ]
}