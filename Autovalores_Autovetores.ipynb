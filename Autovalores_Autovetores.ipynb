{
  "nbformat": 4,
  "nbformat_minor": 0,
  "metadata": {
    "colab": {
      "name": "Autovalores_Autovetores.ipynb",
      "provenance": [],
      "authorship_tag": "ABX9TyN5A1oIUD2cZ11b7gJzOoHA",
      "include_colab_link": true
    },
    "kernelspec": {
      "name": "python3",
      "display_name": "Python 3"
    }
  },
  "cells": [
    {
      "cell_type": "markdown",
      "metadata": {
        "id": "view-in-github",
        "colab_type": "text"
      },
      "source": [
        "<a href=\"https://colab.research.google.com/github/joscelino/Templates-e-Codigos-Basicos-em-Python/blob/master/Autovalores_Autovetores.ipynb\" target=\"_parent\"><img src=\"https://colab.research.google.com/assets/colab-badge.svg\" alt=\"Open In Colab\"/></a>"
      ]
    },
    {
      "cell_type": "code",
      "metadata": {
        "id": "RLWGvkhkMzmS",
        "colab_type": "code",
        "colab": {}
      },
      "source": [
        "# Importacao das bibliotecas\n",
        "import numpy as np\n",
        "import numpy.linalg as al"
      ],
      "execution_count": 0,
      "outputs": []
    },
    {
      "cell_type": "code",
      "metadata": {
        "id": "uMQs5DEBNCEO",
        "colab_type": "code",
        "colab": {}
      },
      "source": [
        "# Definicao das matrizes\n",
        "A = np.array([[4, 2, 0], [-1, 1, 0], [0, 1, 2]])\n",
        "B = np.diag([3, 2, 1])"
      ],
      "execution_count": 0,
      "outputs": []
    },
    {
      "cell_type": "code",
      "metadata": {
        "id": "KbiNfc_gNRPn",
        "colab_type": "code",
        "colab": {
          "base_uri": "https://localhost:8080/",
          "height": 68
        },
        "outputId": "8ad91f0f-b6bf-432c-9312-3736aa6f4ff3"
      },
      "source": [
        "A"
      ],
      "execution_count": 3,
      "outputs": [
        {
          "output_type": "execute_result",
          "data": {
            "text/plain": [
              "array([[ 4,  2,  0],\n",
              "       [-1,  1,  0],\n",
              "       [ 0,  1,  2]])"
            ]
          },
          "metadata": {
            "tags": []
          },
          "execution_count": 3
        }
      ]
    },
    {
      "cell_type": "code",
      "metadata": {
        "id": "Oq9veyM1NiID",
        "colab_type": "code",
        "colab": {
          "base_uri": "https://localhost:8080/",
          "height": 68
        },
        "outputId": "9d7f42ac-4c7f-462a-91fe-a00fe7018c4a"
      },
      "source": [
        "B"
      ],
      "execution_count": 4,
      "outputs": [
        {
          "output_type": "execute_result",
          "data": {
            "text/plain": [
              "array([[3, 0, 0],\n",
              "       [0, 2, 0],\n",
              "       [0, 0, 1]])"
            ]
          },
          "metadata": {
            "tags": []
          },
          "execution_count": 4
        }
      ]
    },
    {
      "cell_type": "code",
      "metadata": {
        "id": "IFfTSl5ENjhh",
        "colab_type": "code",
        "colab": {}
      },
      "source": [
        "autovalores, autovetores = al.eig(B)"
      ],
      "execution_count": 0,
      "outputs": []
    },
    {
      "cell_type": "code",
      "metadata": {
        "id": "8pChSaYCN36B",
        "colab_type": "code",
        "colab": {
          "base_uri": "https://localhost:8080/",
          "height": 34
        },
        "outputId": "e20d6a07-ac74-45b6-df6a-76a5412b34cd"
      },
      "source": [
        "autovalores"
      ],
      "execution_count": 6,
      "outputs": [
        {
          "output_type": "execute_result",
          "data": {
            "text/plain": [
              "array([3., 2., 1.])"
            ]
          },
          "metadata": {
            "tags": []
          },
          "execution_count": 6
        }
      ]
    },
    {
      "cell_type": "code",
      "metadata": {
        "id": "ur4UTZguN6nK",
        "colab_type": "code",
        "colab": {
          "base_uri": "https://localhost:8080/",
          "height": 68
        },
        "outputId": "83699ef3-9588-4866-c804-4b2c61aa79a1"
      },
      "source": [
        "autovetores # Cada coluna se refere a um autovetor"
      ],
      "execution_count": 8,
      "outputs": [
        {
          "output_type": "execute_result",
          "data": {
            "text/plain": [
              "array([[1., 0., 0.],\n",
              "       [0., 1., 0.],\n",
              "       [0., 0., 1.]])"
            ]
          },
          "metadata": {
            "tags": []
          },
          "execution_count": 8
        }
      ]
    },
    {
      "cell_type": "code",
      "metadata": {
        "colab_type": "code",
        "id": "APO647EgOIPI",
        "colab": {}
      },
      "source": [
        "autovalores, autovetores = al.eig(A)"
      ],
      "execution_count": 0,
      "outputs": []
    },
    {
      "cell_type": "code",
      "metadata": {
        "id": "EKUVcdWDOLJz",
        "colab_type": "code",
        "colab": {
          "base_uri": "https://localhost:8080/",
          "height": 34
        },
        "outputId": "bdbe324a-30aa-41f0-83ca-a18eb5b1a655"
      },
      "source": [
        "autovalores"
      ],
      "execution_count": 10,
      "outputs": [
        {
          "output_type": "execute_result",
          "data": {
            "text/plain": [
              "array([2., 2., 3.])"
            ]
          },
          "metadata": {
            "tags": []
          },
          "execution_count": 10
        }
      ]
    },
    {
      "cell_type": "code",
      "metadata": {
        "id": "I5eaxlrDON6a",
        "colab_type": "code",
        "colab": {
          "base_uri": "https://localhost:8080/",
          "height": 68
        },
        "outputId": "0f9e3243-9db7-4efe-85c6-25e027dca741"
      },
      "source": [
        "autovetores # Cada coluna se refere a um autovetor"
      ],
      "execution_count": 11,
      "outputs": [
        {
          "output_type": "execute_result",
          "data": {
            "text/plain": [
              "array([[ 0.00000000e+00,  4.44089210e-16, -8.16496581e-01],\n",
              "       [ 0.00000000e+00, -4.44089210e-16,  4.08248290e-01],\n",
              "       [ 1.00000000e+00,  1.00000000e+00,  4.08248290e-01]])"
            ]
          },
          "metadata": {
            "tags": []
          },
          "execution_count": 11
        }
      ]
    },
    {
      "cell_type": "code",
      "metadata": {
        "id": "d3xOm98bOUlT",
        "colab_type": "code",
        "colab": {
          "base_uri": "https://localhost:8080/",
          "height": 34
        },
        "outputId": "5f91115a-e96d-4e7d-853e-beefc59f7388"
      },
      "source": [
        "A.dot(autovetores[:,0])"
      ],
      "execution_count": 12,
      "outputs": [
        {
          "output_type": "execute_result",
          "data": {
            "text/plain": [
              "array([0., 0., 2.])"
            ]
          },
          "metadata": {
            "tags": []
          },
          "execution_count": 12
        }
      ]
    },
    {
      "cell_type": "code",
      "metadata": {
        "colab_type": "code",
        "outputId": "0ed375e9-475a-4bb2-dc5d-0d8a5907b7f5",
        "id": "W5q6FUEHO8GW",
        "colab": {
          "base_uri": "https://localhost:8080/",
          "height": 34
        }
      },
      "source": [
        "A.dot(autovetores[:,1])"
      ],
      "execution_count": 13,
      "outputs": [
        {
          "output_type": "execute_result",
          "data": {
            "text/plain": [
              "array([ 8.8817842e-16, -8.8817842e-16,  2.0000000e+00])"
            ]
          },
          "metadata": {
            "tags": []
          },
          "execution_count": 13
        }
      ]
    },
    {
      "cell_type": "code",
      "metadata": {
        "colab_type": "code",
        "outputId": "7a66b527-3f26-461c-ef86-2a70d0b2eda0",
        "id": "iNF3J_jpO-v3",
        "colab": {
          "base_uri": "https://localhost:8080/",
          "height": 34
        }
      },
      "source": [
        "A.dot(autovetores[:,2])"
      ],
      "execution_count": 14,
      "outputs": [
        {
          "output_type": "execute_result",
          "data": {
            "text/plain": [
              "array([-2.44948974,  1.22474487,  1.22474487])"
            ]
          },
          "metadata": {
            "tags": []
          },
          "execution_count": 14
        }
      ]
    },
    {
      "cell_type": "code",
      "metadata": {
        "id": "cablZ42xPf78",
        "colab_type": "code",
        "colab": {}
      },
      "source": [
        "# Serie de Fibonnacci"
      ],
      "execution_count": 0,
      "outputs": []
    },
    {
      "cell_type": "code",
      "metadata": {
        "id": "ngJ18JSSPjXP",
        "colab_type": "code",
        "colab": {
          "base_uri": "https://localhost:8080/",
          "height": 34
        },
        "outputId": "2de5f4c7-2568-4e95-ecdd-4ab44d6b376e"
      },
      "source": [
        "n = 8 # Posicao da Serie de Fibonacci\n",
        "s = np.sqrt(5)\n",
        "r = 1/s\n",
        "u = r*(((1+s)/2)**(n+1)-((1-s)/2)**(n+1)) # Valor Fibonacci\n",
        "print(u)"
      ],
      "execution_count": 38,
      "outputs": [
        {
          "output_type": "stream",
          "text": [
            "34.00000000000001\n"
          ],
          "name": "stdout"
        }
      ]
    }
  ]
}